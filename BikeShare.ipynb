{
 "cells": [
  {
   "cell_type": "code",
   "execution_count": 9,
   "metadata": {
    "collapsed": false
   },
   "outputs": [],
   "source": [
    "import pandas as pd\n",
    "import plotly.plotly as py\n",
    "import gmaps\n"
   ]
  },
  {
   "cell_type": "code",
   "execution_count": null,
   "metadata": {
    "collapsed": true
   },
   "outputs": [],
   "source": [
    "bikes = pd.read_csv('https://query.data.world/s/elr757cyg291sgtmhtu4biqty')"
   ]
  },
  {
   "cell_type": "code",
   "execution_count": 4,
   "metadata": {
    "collapsed": false
   },
   "outputs": [
    {
     "data": {
      "text/html": [
       "<div>\n",
       "<table border=\"1\" class=\"dataframe\">\n",
       "  <thead>\n",
       "    <tr style=\"text-align: right;\">\n",
       "      <th></th>\n",
       "      <th>OBJECTID</th>\n",
       "      <th>ID</th>\n",
       "      <th>TERMINAL_NUMBER</th>\n",
       "      <th>LATITUDE</th>\n",
       "      <th>LONGITUDE</th>\n",
       "      <th>INSTALL_DATE</th>\n",
       "      <th>REMOVAL_DATE</th>\n",
       "      <th>NUMBER_OF_BIKES</th>\n",
       "      <th>NUMBER_OF_EMPTY_DOCKS</th>\n",
       "      <th>X</th>\n",
       "      <th>Y</th>\n",
       "      <th>SE_ANNO_CAD_DATA</th>\n",
       "    </tr>\n",
       "  </thead>\n",
       "  <tbody>\n",
       "    <tr>\n",
       "      <th>count</th>\n",
       "      <td>4.710000e+02</td>\n",
       "      <td>471.000000</td>\n",
       "      <td>471.000000</td>\n",
       "      <td>471.000000</td>\n",
       "      <td>471.000000</td>\n",
       "      <td>0.0</td>\n",
       "      <td>0.0</td>\n",
       "      <td>471.000000</td>\n",
       "      <td>471.000000</td>\n",
       "      <td>471.000000</td>\n",
       "      <td>471.000000</td>\n",
       "      <td>0.0</td>\n",
       "    </tr>\n",
       "    <tr>\n",
       "      <th>mean</th>\n",
       "      <td>1.575104e+08</td>\n",
       "      <td>244.424628</td>\n",
       "      <td>31481.097665</td>\n",
       "      <td>38.914832</td>\n",
       "      <td>-77.062568</td>\n",
       "      <td>NaN</td>\n",
       "      <td>NaN</td>\n",
       "      <td>6.178344</td>\n",
       "      <td>10.687898</td>\n",
       "      <td>394575.835124</td>\n",
       "      <td>138556.362360</td>\n",
       "      <td>NaN</td>\n",
       "    </tr>\n",
       "    <tr>\n",
       "      <th>std</th>\n",
       "      <td>1.016987e+03</td>\n",
       "      <td>141.746801</td>\n",
       "      <td>386.679474</td>\n",
       "      <td>0.063604</td>\n",
       "      <td>0.075617</td>\n",
       "      <td>NaN</td>\n",
       "      <td>NaN</td>\n",
       "      <td>4.602270</td>\n",
       "      <td>5.736987</td>\n",
       "      <td>6552.574971</td>\n",
       "      <td>7063.947929</td>\n",
       "      <td>NaN</td>\n",
       "    </tr>\n",
       "    <tr>\n",
       "      <th>min</th>\n",
       "      <td>1.575096e+08</td>\n",
       "      <td>1.000000</td>\n",
       "      <td>31000.000000</td>\n",
       "      <td>38.797557</td>\n",
       "      <td>-77.368416</td>\n",
       "      <td>NaN</td>\n",
       "      <td>NaN</td>\n",
       "      <td>0.000000</td>\n",
       "      <td>1.000000</td>\n",
       "      <td>368067.039744</td>\n",
       "      <td>125534.780976</td>\n",
       "      <td>NaN</td>\n",
       "    </tr>\n",
       "    <tr>\n",
       "      <th>25%</th>\n",
       "      <td>1.575097e+08</td>\n",
       "      <td>124.500000</td>\n",
       "      <td>31117.500000</td>\n",
       "      <td>38.883985</td>\n",
       "      <td>-77.086274</td>\n",
       "      <td>NaN</td>\n",
       "      <td>NaN</td>\n",
       "      <td>3.000000</td>\n",
       "      <td>6.000000</td>\n",
       "      <td>392513.006425</td>\n",
       "      <td>135129.226692</td>\n",
       "      <td>NaN</td>\n",
       "    </tr>\n",
       "    <tr>\n",
       "      <th>50%</th>\n",
       "      <td>1.575098e+08</td>\n",
       "      <td>245.000000</td>\n",
       "      <td>31309.000000</td>\n",
       "      <td>38.900800</td>\n",
       "      <td>-77.046570</td>\n",
       "      <td>NaN</td>\n",
       "      <td>NaN</td>\n",
       "      <td>6.000000</td>\n",
       "      <td>10.000000</td>\n",
       "      <td>395959.439116</td>\n",
       "      <td>136995.157405</td>\n",
       "      <td>NaN</td>\n",
       "    </tr>\n",
       "    <tr>\n",
       "      <th>75%</th>\n",
       "      <td>1.575118e+08</td>\n",
       "      <td>368.500000</td>\n",
       "      <td>31856.000000</td>\n",
       "      <td>38.932575</td>\n",
       "      <td>-77.022170</td>\n",
       "      <td>NaN</td>\n",
       "      <td>NaN</td>\n",
       "      <td>8.000000</td>\n",
       "      <td>14.000000</td>\n",
       "      <td>398077.023395</td>\n",
       "      <td>140534.171340</td>\n",
       "      <td>NaN</td>\n",
       "    </tr>\n",
       "    <tr>\n",
       "      <th>max</th>\n",
       "      <td>1.575119e+08</td>\n",
       "      <td>488.000000</td>\n",
       "      <td>32225.000000</td>\n",
       "      <td>39.126000</td>\n",
       "      <td>-76.913563</td>\n",
       "      <td>NaN</td>\n",
       "      <td>NaN</td>\n",
       "      <td>35.000000</td>\n",
       "      <td>37.000000</td>\n",
       "      <td>407498.739678</td>\n",
       "      <td>162006.941789</td>\n",
       "      <td>NaN</td>\n",
       "    </tr>\n",
       "  </tbody>\n",
       "</table>\n",
       "</div>"
      ],
      "text/plain": [
       "           OBJECTID          ID  TERMINAL_NUMBER    LATITUDE   LONGITUDE  \\\n",
       "count  4.710000e+02  471.000000       471.000000  471.000000  471.000000   \n",
       "mean   1.575104e+08  244.424628     31481.097665   38.914832  -77.062568   \n",
       "std    1.016987e+03  141.746801       386.679474    0.063604    0.075617   \n",
       "min    1.575096e+08    1.000000     31000.000000   38.797557  -77.368416   \n",
       "25%    1.575097e+08  124.500000     31117.500000   38.883985  -77.086274   \n",
       "50%    1.575098e+08  245.000000     31309.000000   38.900800  -77.046570   \n",
       "75%    1.575118e+08  368.500000     31856.000000   38.932575  -77.022170   \n",
       "max    1.575119e+08  488.000000     32225.000000   39.126000  -76.913563   \n",
       "\n",
       "       INSTALL_DATE  REMOVAL_DATE  NUMBER_OF_BIKES  NUMBER_OF_EMPTY_DOCKS  \\\n",
       "count           0.0           0.0       471.000000             471.000000   \n",
       "mean            NaN           NaN         6.178344              10.687898   \n",
       "std             NaN           NaN         4.602270               5.736987   \n",
       "min             NaN           NaN         0.000000               1.000000   \n",
       "25%             NaN           NaN         3.000000               6.000000   \n",
       "50%             NaN           NaN         6.000000              10.000000   \n",
       "75%             NaN           NaN         8.000000              14.000000   \n",
       "max             NaN           NaN        35.000000              37.000000   \n",
       "\n",
       "                   X              Y  SE_ANNO_CAD_DATA  \n",
       "count     471.000000     471.000000               0.0  \n",
       "mean   394575.835124  138556.362360               NaN  \n",
       "std      6552.574971    7063.947929               NaN  \n",
       "min    368067.039744  125534.780976               NaN  \n",
       "25%    392513.006425  135129.226692               NaN  \n",
       "50%    395959.439116  136995.157405               NaN  \n",
       "75%    398077.023395  140534.171340               NaN  \n",
       "max    407498.739678  162006.941789               NaN  "
      ]
     },
     "execution_count": 4,
     "metadata": {},
     "output_type": "execute_result"
    }
   ],
   "source": [
    "bikes.describe()"
   ]
  },
  {
   "cell_type": "code",
   "execution_count": 16,
   "metadata": {
    "collapsed": false
   },
   "outputs": [],
   "source": [
    "gmaps.configure(api_key=open('API Key.txt', 'r').read())"
   ]
  },
  {
   "cell_type": "code",
   "execution_count": null,
   "metadata": {
    "collapsed": false
   },
   "outputs": [],
   "source": [
    "gmaps.Map()"
   ]
  }
 ],
 "metadata": {
  "kernelspec": {
   "display_name": "Python 3",
   "language": "python",
   "name": "python3"
  },
  "language_info": {
   "codemirror_mode": {
    "name": "ipython",
    "version": 3
   },
   "file_extension": ".py",
   "mimetype": "text/x-python",
   "name": "python",
   "nbconvert_exporter": "python",
   "pygments_lexer": "ipython3",
   "version": "3.6.0"
  }
 },
 "nbformat": 4,
 "nbformat_minor": 2
}
